{
  "nbformat": 4,
  "nbformat_minor": 0,
  "metadata": {
    "colab": {
      "provenance": []
    },
    "kernelspec": {
      "name": "python3",
      "display_name": "Python 3"
    },
    "language_info": {
      "name": "python"
    }
  },
  "cells": [
    {
      "cell_type": "code",
      "execution_count": 1,
      "metadata": {
        "id": "r3-RQclPyaDL",
        "colab": {
          "base_uri": "https://localhost:8080/"
        },
        "outputId": "b0d94069-cacc-4bbc-bb74-abeba3fdd97b"
      },
      "outputs": [
        {
          "output_type": "stream",
          "name": "stdout",
          "text": [
            "Downloading data from https://storage.googleapis.com/tensorflow/tf-keras-datasets/mnist.npz\n",
            "11490434/11490434 [==============================] - 0s 0us/step\n"
          ]
        }
      ],
      "source": [
        "import tensorflow as tf\n",
        "import numpy as np\n",
        "\n",
        "# Load the MNIST dataset\n",
        "mnist = tf.keras.datasets.mnist\n",
        "(x_train, y_train), (x_test, y_test) = mnist.load_data()"
      ]
    },
    {
      "cell_type": "code",
      "source": [
        "# Define the neural network model\n",
        "model = tf.keras.models.Sequential([\n",
        "    tf.keras.layers.Flatten(input_shape=(28, 28)),\n",
        "    tf.keras.layers.Dense(128, activation='relu'),\n",
        "    tf.keras.layers.Dropout(0.2),\n",
        "    tf.keras.layers.Dense(10, activation='softmax')\n",
        "])"
      ],
      "metadata": {
        "id": "JAXD-RUI8upG"
      },
      "execution_count": 2,
      "outputs": []
    },
    {
      "cell_type": "code",
      "source": [
        "# Compile the model\n",
        "model.compile(\n",
        "    optimizer='adam',\n",
        "    loss='sparse_categorical_crossentropy',\n",
        "    metrics=['accuracy']\n",
        ")"
      ],
      "metadata": {
        "id": "smxiNGoJ8y_q"
      },
      "execution_count": 3,
      "outputs": []
    },
    {
      "cell_type": "code",
      "source": [
        "# Train the model\n",
        "model.fit(x_train, y_train, epochs=5)"
      ],
      "metadata": {
        "colab": {
          "base_uri": "https://localhost:8080/"
        },
        "id": "AvSB5gZ49XlR",
        "outputId": "aa31c2b2-ae8f-4b1f-8747-f0cdfab27906"
      },
      "execution_count": 4,
      "outputs": [
        {
          "output_type": "stream",
          "name": "stdout",
          "text": [
            "Epoch 1/5\n",
            "1875/1875 [==============================] - 7s 3ms/step - loss: 2.2010 - accuracy: 0.7389\n",
            "Epoch 2/5\n",
            "1875/1875 [==============================] - 7s 4ms/step - loss: 0.5722 - accuracy: 0.8369\n",
            "Epoch 3/5\n",
            "1875/1875 [==============================] - 6s 3ms/step - loss: 0.4842 - accuracy: 0.8663\n",
            "Epoch 4/5\n",
            "1875/1875 [==============================] - 7s 4ms/step - loss: 0.4318 - accuracy: 0.8774\n",
            "Epoch 5/5\n",
            "1875/1875 [==============================] - 6s 3ms/step - loss: 0.4071 - accuracy: 0.8892\n"
          ]
        },
        {
          "output_type": "execute_result",
          "data": {
            "text/plain": [
              "<keras.src.callbacks.History at 0x7c437c207d30>"
            ]
          },
          "metadata": {},
          "execution_count": 4
        }
      ]
    },
    {
      "cell_type": "code",
      "source": [
        "# Predict the labels of test images\n",
        "predictions = model.predict(x_test)"
      ],
      "metadata": {
        "colab": {
          "base_uri": "https://localhost:8080/"
        },
        "id": "rJvyyIkz9n0X",
        "outputId": "0ceef059-10ac-47b6-b0c1-605245a52fc8"
      },
      "execution_count": 5,
      "outputs": [
        {
          "output_type": "stream",
          "name": "stdout",
          "text": [
            "313/313 [==============================] - 1s 2ms/step\n"
          ]
        }
      ]
    },
    {
      "cell_type": "code",
      "source": [
        "# Evaluate the model\n",
        "accuracy = model.evaluate(x_test, y_test)\n",
        "print(\"Accuracy: \", accuracy[1])"
      ],
      "metadata": {
        "colab": {
          "base_uri": "https://localhost:8080/"
        },
        "id": "CAdwPnwz9rfX",
        "outputId": "8071f3a6-14e5-4f6c-d4fb-0c6cd4e8df05"
      },
      "execution_count": 6,
      "outputs": [
        {
          "output_type": "stream",
          "name": "stdout",
          "text": [
            "313/313 [==============================] - 1s 2ms/step - loss: 0.3657 - accuracy: 0.9222\n",
            "Accuracy:  0.9222000241279602\n"
          ]
        }
      ]
    },
    {
      "cell_type": "code",
      "source": [
        "from sklearn.model_selection import train_test_split\n",
        "\n",
        "# Split the dataset into training and testing sets (80% training, 20% testing)\n",
        "x_train, x_test, y_train, y_test = train_test_split(\n",
        "    x_train, y_train, test_size=0.2, random_state=42)\n",
        "\n",
        "# Tampilkan shape dari data latih dan data uji\n",
        "print('Shape x_train:', x_train.shape)\n",
        "print('Shape x_test:', x_test.shape)\n",
        "print('Shape y_train:', y_train.shape)\n",
        "print('Shape y_test:', y_test.shape)\n"
      ],
      "metadata": {
        "colab": {
          "base_uri": "https://localhost:8080/"
        },
        "id": "fm5owQCv9xP5",
        "outputId": "8bf8e766-8840-462b-e7e2-a9ad08f18e25"
      },
      "execution_count": 8,
      "outputs": [
        {
          "output_type": "stream",
          "name": "stdout",
          "text": [
            "Shape x_train: (48000, 28, 28)\n",
            "Shape x_test: (12000, 28, 28)\n",
            "Shape y_train: (48000,)\n",
            "Shape y_test: (12000,)\n"
          ]
        }
      ]
    },
    {
      "cell_type": "code",
      "source": [
        "from sklearn.model_selection import train_test_split\n",
        "from keras.datasets import mnist\n",
        "\n",
        "# Load MNIST dataset\n",
        "(x_train, y_train), (x_test, y_test) = mnist.load_data()\n",
        "\n",
        "# Memisahkan data latih dan data uji dengan perbandingan 80% dan 20%\n",
        "x_train, x_val, y_train, y_val = train_test_split(\n",
        "    x_train, y_train, test_size=0.2, random_state=42, stratify=y_train)"
      ],
      "metadata": {
        "id": "f3hO4TN2-Pjw"
      },
      "execution_count": 9,
      "outputs": []
    },
    {
      "cell_type": "code",
      "source": [
        "import tensorflow as tf\n",
        "from tensorflow.keras import layers, models\n",
        "\n",
        "# Reshape and normalize the input data\n",
        "x_train = x_train.reshape((x_train.shape[0], -1)) / 255.0\n",
        "x_val = x_val.reshape((x_val.shape[0], -1)) / 255.0\n",
        "\n",
        "# Define the model\n",
        "model = models.Sequential([\n",
        "    layers.Flatten(input_shape=(784,)),  # Flatten the input images\n",
        "    layers.Dense(128, activation='relu'),  # Hidden layer with 128 neurons\n",
        "    layers.Dropout(0.2),  # Dropout for regularization\n",
        "    layers.Dense(10, activation='softmax')  # Output layer with 10 neurons (for 0-9 digits)\n",
        "])\n",
        "\n",
        "# Compile the model\n",
        "model.compile(optimizer='adam',\n",
        "              loss='sparse_categorical_crossentropy',\n",
        "              metrics=['accuracy'])\n",
        "\n",
        "# Train the model\n",
        "history = model.fit(x_train, y_train, epochs=5, validation_data=(x_val, y_val))\n",
        "\n",
        "# Evaluate the model on the test set\n",
        "test_loss, test_accuracy = model.evaluate(x_test.reshape((x_test.shape[0], -1)) / 255.0, y_test)\n",
        "\n",
        "print(\"\\nTest Accuracy:\", test_accuracy)\n"
      ],
      "metadata": {
        "colab": {
          "base_uri": "https://localhost:8080/"
        },
        "id": "Rj8R-Knz-e6P",
        "outputId": "110deb7b-9a11-47a0-ae4c-71a9facdc60f"
      },
      "execution_count": 10,
      "outputs": [
        {
          "output_type": "stream",
          "name": "stdout",
          "text": [
            "Epoch 1/5\n",
            "1500/1500 [==============================] - 9s 6ms/step - loss: 0.3213 - accuracy: 0.9076 - val_loss: 0.1641 - val_accuracy: 0.9524\n",
            "Epoch 2/5\n",
            "1500/1500 [==============================] - 6s 4ms/step - loss: 0.1566 - accuracy: 0.9535 - val_loss: 0.1166 - val_accuracy: 0.9660\n",
            "Epoch 3/5\n",
            "1500/1500 [==============================] - 6s 4ms/step - loss: 0.1171 - accuracy: 0.9646 - val_loss: 0.1024 - val_accuracy: 0.9702\n",
            "Epoch 4/5\n",
            "1500/1500 [==============================] - 5s 3ms/step - loss: 0.0938 - accuracy: 0.9713 - val_loss: 0.0955 - val_accuracy: 0.9707\n",
            "Epoch 5/5\n",
            "1500/1500 [==============================] - 6s 4ms/step - loss: 0.0781 - accuracy: 0.9752 - val_loss: 0.0846 - val_accuracy: 0.9732\n",
            "313/313 [==============================] - 1s 2ms/step - loss: 0.0881 - accuracy: 0.9729\n",
            "\n",
            "Test Accuracy: 0.9728999733924866\n"
          ]
        }
      ]
    },
    {
      "cell_type": "code",
      "source": [
        "# Prediksi label gambar pada data uji menggunakan model yang telah dilatih\n",
        "predictions = model.predict(x_test.reshape((x_test.shape[0], -1)) / 255.0)\n",
        "\n",
        "# Ambil label dengan nilai tertinggi sebagai prediksi\n",
        "predicted_labels = tf.argmax(predictions, axis=1).numpy()\n",
        "\n",
        "# Tampilkan beberapa contoh prediksi dan label sebenarnya\n",
        "for i in range(10):\n",
        "    print(f\"Prediksi: {predicted_labels[i]}, Label Sebenarnya: {y_test[i]}\")"
      ],
      "metadata": {
        "colab": {
          "base_uri": "https://localhost:8080/"
        },
        "id": "pnQMxDga-qKn",
        "outputId": "80476782-706e-4a5c-d281-377349d52461"
      },
      "execution_count": 11,
      "outputs": [
        {
          "output_type": "stream",
          "name": "stdout",
          "text": [
            "313/313 [==============================] - 1s 2ms/step\n",
            "Prediksi: 7, Label Sebenarnya: 7\n",
            "Prediksi: 2, Label Sebenarnya: 2\n",
            "Prediksi: 1, Label Sebenarnya: 1\n",
            "Prediksi: 0, Label Sebenarnya: 0\n",
            "Prediksi: 4, Label Sebenarnya: 4\n",
            "Prediksi: 1, Label Sebenarnya: 1\n",
            "Prediksi: 4, Label Sebenarnya: 4\n",
            "Prediksi: 9, Label Sebenarnya: 9\n",
            "Prediksi: 6, Label Sebenarnya: 5\n",
            "Prediksi: 9, Label Sebenarnya: 9\n"
          ]
        }
      ]
    },
    {
      "cell_type": "code",
      "source": [
        "from sklearn.metrics import accuracy_score\n",
        "\n",
        "# Ambil label dengan nilai tertinggi sebagai prediksi\n",
        "predicted_labels = tf.argmax(predictions, axis=1).numpy()\n",
        "\n",
        "# Hitung akurasi menggunakan metrik evaluasi dari scikit-learn\n",
        "accuracy = accuracy_score(y_test, predicted_labels)\n",
        "\n",
        "print(\"Akurasi model:\", accuracy)\n"
      ],
      "metadata": {
        "colab": {
          "base_uri": "https://localhost:8080/"
        },
        "id": "nojGY0NX-viv",
        "outputId": "5d6f70cd-9201-4e57-ca3b-38be19675215"
      },
      "execution_count": 12,
      "outputs": [
        {
          "output_type": "stream",
          "name": "stdout",
          "text": [
            "Akurasi model: 0.9729\n"
          ]
        }
      ]
    },
    {
      "cell_type": "code",
      "source": [
        "# Evaluasi model pada data uji\n",
        "test_loss, test_accuracy = model.evaluate(x_test.reshape((x_test.shape[0], -1)) / 255.0, y_test)\n",
        "\n",
        "print(\"Akurasi model:\", test_accuracy)"
      ],
      "metadata": {
        "colab": {
          "base_uri": "https://localhost:8080/"
        },
        "id": "C_MPd7lo-5LW",
        "outputId": "6e19e018-6923-41ec-89c7-edf858011bd4"
      },
      "execution_count": 13,
      "outputs": [
        {
          "output_type": "stream",
          "name": "stdout",
          "text": [
            "313/313 [==============================] - 1s 2ms/step - loss: 0.0881 - accuracy: 0.9729\n",
            "Akurasi model: 0.9728999733924866\n"
          ]
        }
      ]
    },
    {
      "cell_type": "code",
      "source": [
        "import matplotlib.pyplot as plt\n",
        "\n",
        "# Jumlah data latih dan data uji\n",
        "train_size = len(x_train)\n",
        "test_size = len(x_test)\n",
        "\n",
        "# Persentase data latih dan data uji\n",
        "train_percentage = (train_size / (train_size + test_size)) * 100\n",
        "test_percentage = (test_size / (train_size + test_size)) * 100\n",
        "\n",
        "# Membuat grafik pie chart\n",
        "labels = 'Data Latih', 'Data Uji'\n",
        "sizes = [train_percentage, test_percentage]\n",
        "colors = ['lightcoral', 'lightskyblue']\n",
        "\n",
        "plt.pie(sizes, labels=labels, colors=colors, autopct='%1.1f%%', startangle=90)\n",
        "plt.axis('equal')  # Memastikan bahwa pie chart berbentuk lingkaran\n",
        "plt.title('Pembagian Data Latih dan Data Uji')\n",
        "\n",
        "# Menampilkan grafik\n",
        "plt.show()\n"
      ],
      "metadata": {
        "colab": {
          "base_uri": "https://localhost:8080/",
          "height": 428
        },
        "id": "wDuIVR3n_L2y",
        "outputId": "c376bae8-9b45-4b7a-8a91-4a4d47a86997"
      },
      "execution_count": 15,
      "outputs": [
        {
          "output_type": "display_data",
          "data": {
            "text/plain": [
              "<Figure size 640x480 with 1 Axes>"
            ],
            "image/png": "[encoded data removed]"
          },
          "metadata": {}
        }
      ]
    }
  ]
}